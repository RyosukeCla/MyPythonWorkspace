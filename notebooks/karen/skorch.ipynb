{
 "cells": [
  {
   "cell_type": "code",
   "execution_count": 4,
   "metadata": {},
   "outputs": [
    {
     "name": "stdout",
     "output_type": "stream",
     "text": [
      "  epoch    train_loss    valid_acc    valid_loss      dur\n",
      "-------  ------------  -----------  ------------  -------\n",
      "      1        \u001b[36m0.4107\u001b[0m       \u001b[32m0.9741\u001b[0m        \u001b[35m0.0838\u001b[0m  50.1330\n",
      "      2        \u001b[36m0.1332\u001b[0m       \u001b[32m0.9812\u001b[0m        \u001b[35m0.0603\u001b[0m  48.3953\n",
      "      3        \u001b[36m0.1077\u001b[0m       \u001b[32m0.9845\u001b[0m        \u001b[35m0.0467\u001b[0m  59.6833\n",
      "      4        \u001b[36m0.0896\u001b[0m       \u001b[32m0.9863\u001b[0m        \u001b[35m0.0420\u001b[0m  50.3603\n",
      "      5        \u001b[36m0.0808\u001b[0m       0.9863        \u001b[35m0.0394\u001b[0m  47.4268\n",
      "      6        \u001b[36m0.0733\u001b[0m       \u001b[32m0.9882\u001b[0m        \u001b[35m0.0358\u001b[0m  49.1700\n",
      "      7        \u001b[36m0.0672\u001b[0m       \u001b[32m0.9890\u001b[0m        \u001b[35m0.0347\u001b[0m  52.3128\n",
      "      8        \u001b[36m0.0636\u001b[0m       0.9889        \u001b[35m0.0342\u001b[0m  48.8148\n",
      "      9        \u001b[36m0.0590\u001b[0m       0.9887        \u001b[35m0.0339\u001b[0m  46.8803\n",
      "     10        \u001b[36m0.0548\u001b[0m       \u001b[32m0.9901\u001b[0m        \u001b[35m0.0306\u001b[0m  47.4012\n",
      "             precision    recall  f1-score   support\n",
      "\n",
      "          0       1.00      0.99      1.00      1677\n",
      "          1       0.99      1.00      1.00      1935\n",
      "          2       0.98      0.99      0.99      1767\n",
      "          3       0.99      0.99      0.99      1766\n",
      "          4       0.98      0.99      0.99      1691\n",
      "          5       0.99      0.99      0.99      1653\n",
      "          6       0.99      0.99      0.99      1754\n",
      "          7       0.99      0.99      0.99      1846\n",
      "          8       0.98      0.98      0.98      1702\n",
      "          9       0.99      0.98      0.99      1709\n",
      "\n",
      "avg / total       0.99      0.99      0.99     17500\n",
      "\n"
     ]
    }
   ],
   "source": [
    "# データの読み込み(sklearn)\n",
    "import torch\n",
    "from skorch import NeuralNetClassifier\n",
    "from torch import nn\n",
    "import torch.nn.functional as F\n",
    "from sklearn.datasets import fetch_mldata\n",
    "from sklearn.model_selection import train_test_split\n",
    "from sklearn.metrics import classification_report\n",
    "mnist = fetch_mldata('MNIST original', data_home='./data/mnist')\n",
    "X = mnist.data.astype('float32')\n",
    "y = mnist.target.astype('int64')\n",
    "X /= 255\n",
    "XCnn = X.reshape(-1, 1, 28, 28)\n",
    "XCnn_train, XCnn_test, y_train, y_test = train_test_split(XCnn, y, test_size=0.25, random_state=42)\n",
    "# Networkの設計(PyTorch)\n",
    "class Net(nn.Module):\n",
    "    def __init__(self):\n",
    "        super(Net, self).__init__()\n",
    "        self.conv1 = nn.Conv2d(1, 32, kernel_size=3)\n",
    "        self.conv2 = nn.Conv2d(32, 64, kernel_size=3)\n",
    "        self.conv2_drop = nn.Dropout2d()\n",
    "        self.fc1 = nn.Linear(1600, 128) # 1600 = number channels * width * height\n",
    "        self.fc2 = nn.Linear(128, 10)\n",
    "\n",
    "    def forward(self, x):\n",
    "        x = F.relu(F.max_pool2d(self.conv1(x), 2))\n",
    "        x = F.relu(F.max_pool2d(self.conv2_drop(self.conv2(x)), 2))\n",
    "        x = x.view(-1, x.size(1) * x.size(2) * x.size(3)) # flatten over channel, height and width = 1600\n",
    "        x = F.relu(self.fc1(x))\n",
    "        x = F.dropout(x, training=self.training)\n",
    "        x = self.fc2(x)\n",
    "        x = F.softmax(x, dim=-1)\n",
    "        return x\n",
    "# ラッパーを使う(skorch)\n",
    "net = NeuralNetClassifier(\n",
    "    Net,\n",
    "    max_epochs=10,\n",
    "    lr=1,\n",
    "    optimizer=torch.optim.Adadelta,\n",
    "    # use_cuda=True,  # uncomment this to train with CUDA\n",
    ")\n",
    "# training\n",
    "net.fit(XCnn_train, y_train)\n",
    "\n",
    "# test\n",
    "y_pred = net.predict(XCnn_test)\n",
    "print(classification_report(y_test, y_pred))"
   ]
  },
  {
   "cell_type": "code",
   "execution_count": null,
   "metadata": {},
   "outputs": [],
   "source": [
    "print()"
   ]
  }
 ],
 "metadata": {
  "kernelspec": {
   "display_name": "Python 3",
   "language": "python",
   "name": "python3"
  },
  "language_info": {
   "codemirror_mode": {
    "name": "ipython",
    "version": 3
   },
   "file_extension": ".py",
   "mimetype": "text/x-python",
   "name": "python",
   "nbconvert_exporter": "python",
   "pygments_lexer": "ipython3",
   "version": "3.6.3"
  }
 },
 "nbformat": 4,
 "nbformat_minor": 2
}
