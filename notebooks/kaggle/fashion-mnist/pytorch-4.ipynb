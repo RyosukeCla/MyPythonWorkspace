{
 "cells": [
  {
   "cell_type": "code",
   "execution_count": 1,
   "metadata": {},
   "outputs": [],
   "source": [
    "import torch\n",
    "a = torch.FloatTensor(5, 7)"
   ]
  },
  {
   "cell_type": "code",
   "execution_count": 2,
   "metadata": {},
   "outputs": [],
   "source": [
    "a = torch.randn(5, 7)"
   ]
  },
  {
   "cell_type": "code",
   "execution_count": 4,
   "metadata": {},
   "outputs": [
    {
     "data": {
      "text/plain": [
       "torch.Size([5, 7])"
      ]
     },
     "execution_count": 4,
     "metadata": {},
     "output_type": "execute_result"
    }
   ],
   "source": [
    "a.size()"
   ]
  },
  {
   "cell_type": "code",
   "execution_count": 5,
   "metadata": {},
   "outputs": [
    {
     "data": {
      "text/plain": [
       "\n",
       " 3.5000  3.5000  3.5000  3.5000  3.5000  3.5000  3.5000\n",
       " 3.5000  3.5000  3.5000  3.5000  3.5000  3.5000  3.5000\n",
       " 3.5000  3.5000  3.5000  3.5000  3.5000  3.5000  3.5000\n",
       " 3.5000  3.5000  3.5000  3.5000  3.5000  3.5000  3.5000\n",
       " 3.5000  3.5000  3.5000  3.5000  3.5000  3.5000  3.5000\n",
       "[torch.FloatTensor of size 5x7]"
      ]
     },
     "execution_count": 5,
     "metadata": {},
     "output_type": "execute_result"
    }
   ],
   "source": [
    "a.fill_(3.5)"
   ]
  },
  {
   "cell_type": "code",
   "execution_count": 6,
   "metadata": {},
   "outputs": [],
   "source": [
    "b = a.add_(4.0)"
   ]
  },
  {
   "cell_type": "code",
   "execution_count": 7,
   "metadata": {},
   "outputs": [
    {
     "name": "stdout",
     "output_type": "stream",
     "text": [
      "\n",
      " 7.5000  7.5000  7.5000  7.5000  7.5000  7.5000  7.5000\n",
      " 7.5000  7.5000  7.5000  7.5000  7.5000  7.5000  7.5000\n",
      " 7.5000  7.5000  7.5000  7.5000  7.5000  7.5000  7.5000\n",
      " 7.5000  7.5000  7.5000  7.5000  7.5000  7.5000  7.5000\n",
      " 7.5000  7.5000  7.5000  7.5000  7.5000  7.5000  7.5000\n",
      "[torch.FloatTensor of size 5x7]\n",
      " \n",
      " 7.5000  7.5000  7.5000  7.5000  7.5000  7.5000  7.5000\n",
      " 7.5000  7.5000  7.5000  7.5000  7.5000  7.5000  7.5000\n",
      " 7.5000  7.5000  7.5000  7.5000  7.5000  7.5000  7.5000\n",
      " 7.5000  7.5000  7.5000  7.5000  7.5000  7.5000  7.5000\n",
      " 7.5000  7.5000  7.5000  7.5000  7.5000  7.5000  7.5000\n",
      "[torch.FloatTensor of size 5x7]\n",
      "\n"
     ]
    }
   ],
   "source": [
    "print(a, b)"
   ]
  },
  {
   "cell_type": "code",
   "execution_count": 8,
   "metadata": {},
   "outputs": [],
   "source": [
    "b = a[0, 3]"
   ]
  },
  {
   "cell_type": "code",
   "execution_count": 9,
   "metadata": {},
   "outputs": [
    {
     "data": {
      "text/plain": [
       "7.5"
      ]
     },
     "execution_count": 9,
     "metadata": {},
     "output_type": "execute_result"
    }
   ],
   "source": [
    "b"
   ]
  },
  {
   "cell_type": "code",
   "execution_count": 10,
   "metadata": {},
   "outputs": [],
   "source": [
    "b = a[:, 3:5]"
   ]
  },
  {
   "cell_type": "code",
   "execution_count": 11,
   "metadata": {},
   "outputs": [
    {
     "data": {
      "text/plain": [
       "\n",
       " 7.5000  7.5000\n",
       " 7.5000  7.5000\n",
       " 7.5000  7.5000\n",
       " 7.5000  7.5000\n",
       " 7.5000  7.5000\n",
       "[torch.FloatTensor of size 5x2]"
      ]
     },
     "execution_count": 11,
     "metadata": {},
     "output_type": "execute_result"
    }
   ],
   "source": [
    "b"
   ]
  },
  {
   "cell_type": "code",
   "execution_count": 12,
   "metadata": {},
   "outputs": [
    {
     "data": {
      "text/plain": [
       "\n",
       " 1  1  1  1  1\n",
       " 1  1  1  1  1\n",
       " 1  1  1  1  1\n",
       " 1  1  1  1  1\n",
       " 1  1  1  1  1\n",
       "[torch.FloatTensor of size 5x5]"
      ]
     },
     "execution_count": 12,
     "metadata": {},
     "output_type": "execute_result"
    }
   ],
   "source": [
    "x = torch.ones(5, 5)\n",
    "x"
   ]
  },
  {
   "cell_type": "code",
   "execution_count": 14,
   "metadata": {},
   "outputs": [
    {
     "data": {
      "text/plain": [
       "\n",
       "  10  100\n",
       "  10  100\n",
       "  10  100\n",
       "  10  100\n",
       "  10  100\n",
       "[torch.FloatTensor of size 5x2]"
      ]
     },
     "execution_count": 14,
     "metadata": {},
     "output_type": "execute_result"
    }
   ],
   "source": [
    "z = torch.Tensor(5, 2)\n",
    "z[:, 0] = 10\n",
    "z[:, 1] = 100\n",
    "z"
   ]
  },
  {
   "cell_type": "code",
   "execution_count": 15,
   "metadata": {},
   "outputs": [
    {
     "data": {
      "text/plain": [
       "\n",
       "  10  100\n",
       "  10  100\n",
       "  10  100\n",
       "  10  100\n",
       "  10  100\n",
       "[torch.FloatTensor of size 5x2]"
      ]
     },
     "execution_count": 15,
     "metadata": {},
     "output_type": "execute_result"
    }
   ],
   "source": [
    "x.index_add_(1, torch.LongTensor([4, 0]), z)\n"
   ]
  },
  {
   "cell_type": "code",
   "execution_count": 18,
   "metadata": {},
   "outputs": [
    {
     "data": {
      "text/plain": [
       "\n",
       " 101    1    1    1   11\n",
       " 101    1    1    1   11\n",
       " 101    1    1    1   11\n",
       " 101    1    1    1   11\n",
       " 101    1    1    1   11\n",
       "[torch.FloatTensor of size 5x5]"
      ]
     },
     "execution_count": 18,
     "metadata": {},
     "output_type": "execute_result"
    }
   ],
   "source": [
    "x"
   ]
  },
  {
   "cell_type": "code",
   "execution_count": 20,
   "metadata": {},
   "outputs": [
    {
     "data": {
      "text/plain": [
       "\n",
       " 101    1    1    1   11\n",
       " 101    1    1    1   11\n",
       " 101    1    1    1   11\n",
       " 101    1    1    1   11\n",
       " 101    1    1    1   11\n",
       "[torch.FloatTensor of size 5x5]"
      ]
     },
     "execution_count": 20,
     "metadata": {},
     "output_type": "execute_result"
    }
   ],
   "source": [
    "test = x.view(x.size(0), -1)\n",
    "test"
   ]
  },
  {
   "cell_type": "code",
   "execution_count": 24,
   "metadata": {},
   "outputs": [
    {
     "data": {
      "text/plain": [
       "\n",
       " 101    1    1    1   11\n",
       " 101    1    1    1   11\n",
       " 101    1    1    1   11\n",
       " 101    1    1    1   11\n",
       " 101    1    1    1   11\n",
       "[torch.FloatTensor of size 5x5]"
      ]
     },
     "execution_count": 24,
     "metadata": {},
     "output_type": "execute_result"
    }
   ],
   "source": [
    "test = x.view(x.size(1), -1)\n",
    "test"
   ]
  },
  {
   "cell_type": "code",
   "execution_count": 39,
   "metadata": {},
   "outputs": [
    {
     "data": {
      "text/plain": [
       "Variable containing:\n",
       "\n",
       "Columns 0 to 9 \n",
       "-0.0780  0.0841  1.6099 -1.4071 -1.3342  0.2277 -1.0931  0.6609 -1.9512  0.5308\n",
       " 0.3535 -1.0736  0.3694  0.1404 -0.0835  1.4989 -0.9002  0.4971  0.2361  1.2537\n",
       "-0.3017 -0.5376  0.3627 -0.1699 -1.4711  0.5120 -0.5589 -0.4378 -2.1241 -0.5727\n",
       " 1.3606 -0.0692  1.0277  0.2542 -0.3627  0.6604 -0.0964 -0.7277  1.3057 -1.7700\n",
       "-1.3435  0.2837 -0.0108  0.9142  0.3883  0.5216  1.0598  1.4355  0.6734 -1.8440\n",
       " 0.3546 -0.0502  0.9957 -1.4286 -0.4078 -0.1505 -2.1805 -0.2790  0.3569 -0.1828\n",
       "-1.1725 -2.2957  1.7910  0.6199 -0.9509 -0.0929  0.4631  0.8503 -0.4119  0.5086\n",
       " 0.5952 -1.0624  0.7044  0.8453  1.2314  1.1893 -0.0478 -0.4180 -0.5114  0.6574\n",
       "-0.2552 -0.7647  0.8889  0.9024  0.3201  0.0338 -0.2581  1.0297  0.7711  0.0589\n",
       "-1.1579 -1.8710  0.1441  0.6406  0.5151 -1.7423  0.6214  1.0353 -1.5928  0.5130\n",
       "\n",
       "Columns 10 to 19 \n",
       " 1.0155  1.3522 -0.7162  0.0057  0.3493 -0.0737 -0.3865  0.4403 -0.0798 -1.0111\n",
       " 0.0652 -0.2110 -1.3681  1.2509  0.4500  0.7749  0.1204  0.8852  0.1226  0.4313\n",
       "-0.0850 -1.6891 -1.2497  0.8225  1.0093 -0.3670  0.6818  1.4662 -0.4614  1.0194\n",
       " 0.0814 -0.9328  0.8676  1.2781  0.6537  0.6760 -0.4316 -1.6587  1.4665 -1.5802\n",
       "-0.2633  1.8814  1.1046 -0.0952 -0.3048  0.9157  0.0290  0.9441 -1.7314  1.0301\n",
       "-0.2844  0.2648 -0.9471  1.5704  1.6270  0.1662 -0.2347 -0.4892 -1.2364 -2.0364\n",
       "-0.0166 -1.5697 -0.0462 -0.5408  1.4560 -0.3509  0.5342  0.7890  0.9178  0.2759\n",
       " 0.3535 -0.9546  1.5808  1.3669 -0.4206  0.2791  0.0145  3.2673 -0.7473 -1.4367\n",
       " 1.7810  0.9182 -0.2434 -0.2846  1.1998  0.3679 -0.3988  0.1883  2.1560 -1.0425\n",
       " 2.2460 -0.0143 -1.5267  1.7758 -0.7159  1.5004  0.4720  0.1317  0.0892  0.3364\n",
       "\n",
       "Columns 20 to 29 \n",
       "-1.2219  1.3015 -1.2519 -1.0838 -0.5247 -0.1745  0.9739  1.1147  0.8762  0.4489\n",
       " 1.6008  0.2219  0.3296  1.6562  0.3418  0.0224  0.6724 -0.6590  0.4248 -0.9705\n",
       "-0.8274 -0.2334 -0.0014 -0.3369 -1.2782  0.2073  1.2505  0.9634  0.8882 -0.5091\n",
       " 1.2258  0.6329  1.1317 -1.8557  0.7135  0.4843  0.6838  0.1257 -1.2881  0.8492\n",
       "-1.1171  0.3137 -1.1613  0.9820  1.1351  0.0043  1.6115 -0.2867 -1.2492 -1.7592\n",
       "-0.6387  2.2459  0.6094  1.1989 -0.1090 -1.0925  0.7151 -1.0645 -0.4309 -0.0647\n",
       "-0.5452  0.5922  0.8943  0.6926  0.0028 -0.8719  0.3287 -2.3524 -0.1305 -2.1993\n",
       "-0.4582  0.1341  0.8785 -0.3608 -0.8202  1.8261 -0.2761 -0.5843  0.0791 -0.0677\n",
       " 0.6235 -1.1519 -1.1193 -0.4278 -1.4566  0.8306 -0.2557 -0.4473  0.9307 -0.0055\n",
       " 0.1440  0.9835 -0.3317 -0.3255 -0.4352  0.1504 -0.6485  2.1512  2.1547 -0.1783\n",
       "\n",
       "Columns 30 to 39 \n",
       " 1.1600 -0.4063 -0.0211 -0.4141 -0.3958  0.3966 -1.9298 -0.9053 -0.4404 -0.0500\n",
       " 0.6011  1.0431  0.0154 -0.9102  1.5473  1.1963 -1.2815  1.4440 -0.3535  0.3337\n",
       " 1.2051  0.7267 -2.3661 -0.3233 -1.7348 -2.1187  0.4936  1.1376  1.0677  0.0633\n",
       "-0.0906 -0.7665  0.1383 -0.0377  1.9788  0.5849 -0.5354 -1.1159  2.3100  2.5384\n",
       "-2.0748 -1.5293  0.0323  0.3225  0.6149 -1.6609  1.9572  1.2571  0.3796 -1.6315\n",
       "-0.1418  1.2237 -0.1976  0.8770 -0.1664  1.7210  0.9456  1.5846  0.5937 -1.6261\n",
       "-0.5796 -1.4031 -0.0338 -0.0491 -0.2987  1.5775  0.6536  1.2092 -0.5527 -0.8374\n",
       "-1.3694 -0.1675 -0.5996  0.3322 -0.5793 -0.2319 -0.9080  0.2768 -1.1815 -0.9225\n",
       "-0.6489  0.2027 -1.3266  0.1563 -0.4831 -0.1143 -0.1259  0.4004 -0.1879  0.2459\n",
       "-1.8599 -1.0472  0.9574  1.2045  0.3424 -1.5687 -0.3314 -0.7931 -0.2395  1.1375\n",
       "\n",
       "Columns 40 to 49 \n",
       "-0.2766  1.0922 -1.8823 -1.1698  0.7168  1.9342  0.0184  0.5455 -1.0011 -1.8539\n",
       "-0.5571  0.5812 -0.8886  2.5699 -0.0575  2.2623  0.0476 -0.1861 -0.4301 -0.9496\n",
       "-0.4458  1.3849 -1.3060  0.8602  1.3990 -0.8370  0.5511  0.3421  0.0755  0.1688\n",
       "-0.2286  1.7627  0.5026  0.9114  0.5549 -0.1192 -0.9256  0.0156 -0.0022 -0.0989\n",
       " 1.2528 -0.3962  0.3144 -0.3024  0.5206  0.8981  0.1307  0.3560 -0.7706 -0.6601\n",
       "-0.2260 -0.6591 -0.4747  0.5581 -0.2274  0.7906  0.1248 -0.2202 -0.2905 -0.9788\n",
       "-1.7131 -0.2943 -0.6842  0.7249  1.2417  0.4007 -1.1040 -0.3611 -1.3498 -0.5686\n",
       "-0.7157 -0.6075 -0.1561  0.0105 -2.0843 -0.8062 -0.7873  1.7402 -0.5263 -0.3486\n",
       " 1.0449  0.8372 -1.7961  1.1529 -2.5190 -0.0555 -0.1915 -2.0917 -0.4267  0.5440\n",
       "-1.2710  0.3936  0.4944 -0.1908 -0.4356 -1.9435  1.0703  0.2689  0.9814  1.6444\n",
       "\n",
       "Columns 50 to 59 \n",
       " 0.0000  0.0000  0.0000  0.0000  0.0000  0.0000  0.0000  0.0000  0.0000  0.0000\n",
       " 0.0000  0.0000  0.0000  0.0000  0.0000  0.0000  0.0000  0.0000  0.0000  0.0000\n",
       " 0.0000  0.0000  0.0000  0.0000  0.0000  0.0000  0.0000  0.0000  0.0000  0.0000\n",
       " 0.0000  0.0000  0.0000  0.0000  0.0000  0.0000  0.0000  0.0000  0.0000  0.0000\n",
       " 0.0000  0.0000  0.0000  0.0000  0.0000  0.0000  0.0000  0.0000  0.0000  0.0000\n",
       " 0.0000  0.0000  0.0000  0.0000  0.0000  0.0000  0.0000  0.0000  0.0000  0.0000\n",
       " 0.0000  0.0000  0.0000  0.0000  0.0000  0.0000  0.0000  0.0000  0.0000  0.0000\n",
       " 0.0000  0.0000  0.0000  0.0000  0.0000  0.0000  0.0000  0.0000  0.0000  0.0000\n",
       " 0.0000  0.0000  0.0000  0.0000  0.0000  0.0000  0.0000  0.0000  0.0000  0.0000\n",
       " 0.0000  0.0000  0.0000  0.0000  0.0000  0.0000  0.0000  0.0000  0.0000  0.0000\n",
       "\n",
       "Columns 60 to 69 \n",
       " 0.0000  0.0000  0.0000  0.0000  0.0000  0.0000  0.0000  0.0000  0.0000  0.0000\n",
       " 0.0000  0.0000  0.0000  0.0000  0.0000  0.0000  0.0000  0.0000  0.0000  0.0000\n",
       " 0.0000  0.0000  0.0000  0.0000  0.0000  0.0000  0.0000  0.0000  0.0000  0.0000\n",
       " 0.0000  0.0000  0.0000  0.0000  0.0000  0.0000  0.0000  0.0000  0.0000  0.0000\n",
       " 0.0000  0.0000  0.0000  0.0000  0.0000  0.0000  0.0000  0.0000  0.0000  0.0000\n",
       " 0.0000  0.0000  0.0000  0.0000  0.0000  0.0000  0.0000  0.0000  0.0000  0.0000\n",
       " 0.0000  0.0000  0.0000  0.0000  0.0000  0.0000  0.0000  0.0000  0.0000  0.0000\n",
       " 0.0000  0.0000  0.0000  0.0000  0.0000  0.0000  0.0000  0.0000  0.0000  0.0000\n",
       " 0.0000  0.0000  0.0000  0.0000  0.0000  0.0000  0.0000  0.0000  0.0000  0.0000\n",
       " 0.0000  0.0000  0.0000  0.0000  0.0000  0.0000  0.0000  0.0000  0.0000  0.0000\n",
       "[torch.FloatTensor of size 10x70]"
      ]
     },
     "execution_count": 39,
     "metadata": {},
     "output_type": "execute_result"
    }
   ],
   "source": [
    "torch.cat((batch, hidden), 1)"
   ]
  },
  {
   "cell_type": "code",
   "execution_count": 25,
   "metadata": {},
   "outputs": [],
   "source": [
    "import torch\n",
    "from torch.autograd import Variable\n",
    "import torch.nn as nn\n",
    "import torch.nn.functional as F"
   ]
  },
  {
   "cell_type": "code",
   "execution_count": 42,
   "metadata": {},
   "outputs": [],
   "source": [
    "class RNN(nn.Module):\n",
    "\n",
    "    # you can also accept arguments in your model constructor\n",
    "    def __init__(self, data_size, hidden_size, output_size):\n",
    "        super(RNN, self).__init__()\n",
    "\n",
    "        self.hidden_size = hidden_size\n",
    "        input_size = data_size + hidden_size\n",
    "\n",
    "        self.i2h = nn.Linear(input_size, hidden_size)\n",
    "        self.h2o = nn.Linear(hidden_size, output_size)\n",
    "\n",
    "    def forward(self, data, last_hidden):\n",
    "        input = torch.cat((data, last_hidden), 1)\n",
    "        hidden = self.i2h(input)\n",
    "        output = self.h2o(hidden)\n",
    "        return hidden, output\n",
    "\n",
    "\n",
    "rnn = RNN(50, 20, 10)"
   ]
  },
  {
   "cell_type": "code",
   "execution_count": 33,
   "metadata": {},
   "outputs": [],
   "source": [
    "loss_fn = nn.MSELoss()\n",
    "\n",
    "batch_size = 10\n",
    "TIMESTEPS = 5\n"
   ]
  },
  {
   "cell_type": "code",
   "execution_count": 34,
   "metadata": {},
   "outputs": [],
   "source": [
    "batch = Variable(torch.randn(batch_size, 50))\n",
    "hidden = Variable(torch.zeros(batch_size, 20))\n",
    "target = Variable(torch.zeros(batch_size, 10))"
   ]
  },
  {
   "cell_type": "code",
   "execution_count": 36,
   "metadata": {},
   "outputs": [
    {
     "name": "stdout",
     "output_type": "stream",
     "text": [
      "torch.Size([10, 50])\n"
     ]
    }
   ],
   "source": [
    "print(batch.size())"
   ]
  },
  {
   "cell_type": "code",
   "execution_count": 68,
   "metadata": {},
   "outputs": [],
   "source": [
    "loss_fn = nn.MSELoss()\n",
    "\n",
    "batch_size = 10\n",
    "TIMESTEPS = 5\n",
    "\n",
    "# Create some fake data\n",
    "batch = Variable(torch.randn(batch_size, 50))\n",
    "hidden = Variable(torch.zeros(batch_size, 20))\n",
    "target = Variable(torch.zeros(batch_size, 10))\n",
    "\n",
    "loss = 0\n",
    "for t in range(TIMESTEPS):\n",
    "    # yes! you can reuse the same network several times,\n",
    "    # sum up the losses, and call backward!\n",
    "    hidden, output = rnn(batch, hidden)\n",
    "    loss += loss_fn(output, target)\n",
    "loss.backward()"
   ]
  },
  {
   "cell_type": "code",
   "execution_count": 69,
   "metadata": {},
   "outputs": [
    {
     "data": {
      "text/plain": [
       "Variable containing:\n",
       " 0.5748\n",
       "[torch.FloatTensor of size 1]"
      ]
     },
     "execution_count": 69,
     "metadata": {},
     "output_type": "execute_result"
    }
   ],
   "source": []
  },
  {
   "cell_type": "code",
   "execution_count": null,
   "metadata": {},
   "outputs": [],
   "source": []
  }
 ],
 "metadata": {
  "kernelspec": {
   "display_name": "Python 3",
   "language": "python",
   "name": "python3"
  },
  "language_info": {
   "codemirror_mode": {
    "name": "ipython",
    "version": 3
   },
   "file_extension": ".py",
   "mimetype": "text/x-python",
   "name": "python",
   "nbconvert_exporter": "python",
   "pygments_lexer": "ipython3",
   "version": "3.6.3"
  }
 },
 "nbformat": 4,
 "nbformat_minor": 2
}
