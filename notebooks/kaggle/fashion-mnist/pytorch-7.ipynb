{
 "cells": [
  {
   "cell_type": "code",
   "execution_count": 20,
   "metadata": {},
   "outputs": [],
   "source": [
    "import torch\n",
    "import torch.nn as nn\n",
    "import torchvision\n",
    "import torchvision.datasets as dsets\n",
    "import torchvision.transforms as transforms\n",
    "from torch.autograd import Variable\n",
    "import os"
   ]
  },
  {
   "cell_type": "code",
   "execution_count": 13,
   "metadata": {},
   "outputs": [],
   "source": [
    "input_size = 784\n",
    "hidden_sizes = [500]\n",
    "num_classes = 10\n",
    "num_epochs = 50\n",
    "batch_size = 100\n",
    "learning_rate = 0.001"
   ]
  },
  {
   "cell_type": "code",
   "execution_count": 3,
   "metadata": {},
   "outputs": [
    {
     "name": "stdout",
     "output_type": "stream",
     "text": [
      "Downloading http://yann.lecun.com/exdb/mnist/train-images-idx3-ubyte.gz\n",
      "Downloading http://yann.lecun.com/exdb/mnist/train-labels-idx1-ubyte.gz\n",
      "Downloading http://yann.lecun.com/exdb/mnist/t10k-images-idx3-ubyte.gz\n",
      "Downloading http://yann.lecun.com/exdb/mnist/t10k-labels-idx1-ubyte.gz\n",
      "Processing...\n",
      "Done!\n"
     ]
    }
   ],
   "source": [
    "train_dataset = dsets.MNIST(root='./data', \n",
    "                            train=True, \n",
    "                            transform=transforms.ToTensor(),\n",
    "                            download=True)\n",
    "\n",
    "test_dataset = dsets.MNIST(root='./data', \n",
    "                           train=False, \n",
    "                           transform=transforms.ToTensor())\n",
    "\n",
    "# Dataset Loader (Input Pipline)\n",
    "train_loader = torch.utils.data.DataLoader(dataset=train_dataset, \n",
    "                                           batch_size=batch_size, \n",
    "                                           shuffle=True)\n",
    "\n",
    "test_loader = torch.utils.data.DataLoader(dataset=test_dataset, \n",
    "                                          batch_size=batch_size, \n",
    "                                          shuffle=False)"
   ]
  },
  {
   "cell_type": "code",
   "execution_count": 4,
   "metadata": {},
   "outputs": [
    {
     "name": "stdout",
     "output_type": "stream",
     "text": [
      "60000\n",
      "10000\n",
      "600\n",
      "100\n"
     ]
    }
   ],
   "source": [
    "print(len(train_dataset))  # 60000\n",
    "print(len(test_dataset))   # 10000\n",
    "print(len(train_loader))   # 600\n",
    "print(len(test_loader))    # 100"
   ]
  },
  {
   "cell_type": "code",
   "execution_count": 5,
   "metadata": {},
   "outputs": [
    {
     "name": "stdout",
     "output_type": "stream",
     "text": [
      "<class 'torch.FloatTensor'>\n",
      "<class 'torch.LongTensor'>\n",
      "torch.Size([100, 1, 28, 28])\n",
      "torch.Size([100])\n"
     ]
    }
   ],
   "source": [
    "image, label = iter(train_loader).next()\n",
    "print(type(image))   # <class 'torch.FloatTensor'>\n",
    "print(type(label))   # <class 'torch.LongTensor'>\n",
    "print(image.size())  # torch.Size([100, 1, 28, 28])\n",
    "print(label.size())  # torch.Size([100])"
   ]
  },
  {
   "cell_type": "code",
   "execution_count": 6,
   "metadata": {},
   "outputs": [
    {
     "data": {
      "text/plain": [
       "(-0.5, 145.5, 145.5, -0.5)"
      ]
     },
     "execution_count": 6,
     "metadata": {},
     "output_type": "execute_result"
    },
    {
     "data": {
      "image/png": "[encoded data removed]",
      "text/plain": [
       "<matplotlib.figure.Figure at 0x7f0d15cb9f98>"
      ]
     },
     "metadata": {},
     "output_type": "display_data"
    }
   ],
   "source": [
    "import matplotlib.pyplot as plt\n",
    "import numpy as np\n",
    "%matplotlib inline\n",
    "\n",
    "def imshow(img):\n",
    "    npimg = img.numpy()\n",
    "    # [c, h, w] => [h, w, c]\n",
    "    plt.imshow(np.transpose(npimg, (1, 2, 0)))\n",
    "\n",
    "images, labels = iter(train_loader).next()\n",
    "images, labels = images[:25], labels[:25]\n",
    "imshow(torchvision.utils.make_grid(images, nrow=5, padding=1))\n",
    "plt.axis('off')"
   ]
  },
  {
   "cell_type": "code",
   "execution_count": 11,
   "metadata": {},
   "outputs": [],
   "source": [
    "class MultiLayerPerceptron(nn.Module):\n",
    "    def __init__(self, input_size, hidden_sizes, num_classes):\n",
    "        super(MultiLayerPerceptron, self).__init__()\n",
    "        \n",
    "        self.relu = nn.ReLU()\n",
    "        self.input_layer = nn.Linear(input_size, hidden_size[0])\n",
    "        self.hidden_layers = []\n",
    "        \n",
    "        for i in range(len(hidden_sizes) - 1):\n",
    "            self.hidden_layers.append(nn.Linear(hidden_sizes[i], hidden_sizes[i + 1]))\n",
    "        \n",
    "        self.output_layer = nn.Linear(hidden_size[-1], num_classes)\n",
    "        \n",
    "    def forward(self, x):\n",
    "        x = self.input_layer(x)\n",
    "        x = self.relu(x)\n",
    "        \n",
    "        for hidden_layer in self.hidden_layers:\n",
    "            x = hidden_layer(x)\n",
    "            x = self.relu(x)\n",
    "        \n",
    "        x = self.output_layer(x)\n",
    "        \n",
    "        return x\n",
    "        "
   ]
  },
  {
   "cell_type": "code",
   "execution_count": 14,
   "metadata": {},
   "outputs": [
    {
     "name": "stdout",
     "output_type": "stream",
     "text": [
      "befire view: torch.Size([100, 1, 28, 28])\n",
      "after view: torch.Size([100, 784])\n"
     ]
    },
    {
     "data": {
      "text/plain": [
       "Variable containing:\n",
       "-0.0570 -0.0479 -0.0834  ...  -0.0898 -0.0535 -0.1333\n",
       "-0.1476  0.0249  0.0194  ...   0.0582 -0.1939 -0.1018\n",
       "-0.1780 -0.0872  0.0149  ...   0.0331 -0.1280 -0.1088\n",
       "          ...             ⋱             ...          \n",
       "-0.0637  0.0184  0.0005  ...  -0.0736 -0.1513 -0.2257\n",
       "-0.0332  0.0431  0.0028  ...   0.0232 -0.1010 -0.0891\n",
       "-0.0845  0.0050  0.0181  ...  -0.0301 -0.0057 -0.0617\n",
       "[torch.FloatTensor of size 100x10]"
      ]
     },
     "execution_count": 14,
     "metadata": {},
     "output_type": "execute_result"
    }
   ],
   "source": [
    "model = MultiLayerPerceptron(input_size, hidden_sizes, num_classes)\n",
    "\n",
    "image, label = iter(train_loader).next()\n",
    "\n",
    "print(\"befire view:\", image.size())\n",
    "image = image.view(-1, 28 * 28)\n",
    "print(\"after view:\", image.size())\n",
    "model(Variable(image))"
   ]
  },
  {
   "cell_type": "code",
   "execution_count": 16,
   "metadata": {},
   "outputs": [],
   "source": [
    "criterion = nn.CrossEntropyLoss()\n",
    "optimizer = torch.optim.SGD(model.parameters(), lr=learning_rate)"
   ]
  },
  {
   "cell_type": "code",
   "execution_count": 19,
   "metadata": {},
   "outputs": [
    {
     "name": "stdout",
     "output_type": "stream",
     "text": [
      "epoch 0, loss: 2.0618, val_loss: 1.9690, val_acc: 0.6995\n",
      "epoch 1, loss: 1.8792, val_loss: 1.7685, val_acc: 0.7413\n",
      "epoch 2, loss: 1.6735, val_loss: 1.5538, val_acc: 0.7665\n",
      "epoch 3, loss: 1.4659, val_loss: 1.3501, val_acc: 0.7875\n",
      "epoch 4, loss: 1.2786, val_loss: 1.1756, val_acc: 0.8040\n",
      "epoch 5, loss: 1.1230, val_loss: 1.0352, val_acc: 0.8210\n",
      "epoch 6, loss: 0.9993, val_loss: 0.9251, val_acc: 0.8311\n",
      "epoch 7, loss: 0.9021, val_loss: 0.8388, val_acc: 0.8373\n",
      "epoch 8, loss: 0.8255, val_loss: 0.7704, val_acc: 0.8452\n",
      "epoch 9, loss: 0.7643, val_loss: 0.7156, val_acc: 0.8532\n",
      "epoch 10, loss: 0.7146, val_loss: 0.6709, val_acc: 0.8572\n",
      "epoch 11, loss: 0.6737, val_loss: 0.6334, val_acc: 0.8621\n",
      "epoch 12, loss: 0.6394, val_loss: 0.6023, val_acc: 0.8645\n",
      "epoch 13, loss: 0.6104, val_loss: 0.5756, val_acc: 0.8687\n",
      "epoch 14, loss: 0.5855, val_loss: 0.5524, val_acc: 0.8719\n",
      "epoch 15, loss: 0.5639, val_loss: 0.5326, val_acc: 0.8752\n",
      "epoch 16, loss: 0.5450, val_loss: 0.5150, val_acc: 0.8776\n",
      "epoch 17, loss: 0.5283, val_loss: 0.4995, val_acc: 0.8788\n",
      "epoch 18, loss: 0.5135, val_loss: 0.4856, val_acc: 0.8808\n",
      "epoch 19, loss: 0.5002, val_loss: 0.4732, val_acc: 0.8839\n",
      "epoch 20, loss: 0.4883, val_loss: 0.4620, val_acc: 0.8847\n",
      "epoch 21, loss: 0.4775, val_loss: 0.4519, val_acc: 0.8870\n",
      "epoch 22, loss: 0.4677, val_loss: 0.4427, val_acc: 0.8881\n",
      "epoch 23, loss: 0.4588, val_loss: 0.4343, val_acc: 0.8913\n",
      "epoch 24, loss: 0.4506, val_loss: 0.4265, val_acc: 0.8915\n",
      "epoch 25, loss: 0.4430, val_loss: 0.4196, val_acc: 0.8939\n",
      "epoch 26, loss: 0.4360, val_loss: 0.4130, val_acc: 0.8936\n",
      "epoch 27, loss: 0.4296, val_loss: 0.4069, val_acc: 0.8953\n",
      "epoch 28, loss: 0.4235, val_loss: 0.4011, val_acc: 0.8962\n",
      "epoch 29, loss: 0.4179, val_loss: 0.3959, val_acc: 0.8968\n",
      "epoch 30, loss: 0.4126, val_loss: 0.3909, val_acc: 0.8977\n",
      "epoch 31, loss: 0.4077, val_loss: 0.3863, val_acc: 0.8985\n",
      "epoch 32, loss: 0.4031, val_loss: 0.3820, val_acc: 0.8989\n",
      "epoch 33, loss: 0.3987, val_loss: 0.3779, val_acc: 0.8999\n",
      "epoch 34, loss: 0.3945, val_loss: 0.3740, val_acc: 0.9002\n",
      "epoch 35, loss: 0.3906, val_loss: 0.3704, val_acc: 0.9005\n",
      "epoch 36, loss: 0.3869, val_loss: 0.3668, val_acc: 0.9012\n",
      "epoch 37, loss: 0.3834, val_loss: 0.3636, val_acc: 0.9018\n",
      "epoch 38, loss: 0.3800, val_loss: 0.3604, val_acc: 0.9028\n",
      "epoch 39, loss: 0.3768, val_loss: 0.3575, val_acc: 0.9025\n",
      "epoch 40, loss: 0.3737, val_loss: 0.3546, val_acc: 0.9035\n",
      "epoch 41, loss: 0.3707, val_loss: 0.3519, val_acc: 0.9045\n",
      "epoch 42, loss: 0.3679, val_loss: 0.3493, val_acc: 0.9053\n",
      "epoch 43, loss: 0.3652, val_loss: 0.3465, val_acc: 0.9055\n",
      "epoch 44, loss: 0.3626, val_loss: 0.3443, val_acc: 0.9064\n",
      "epoch 45, loss: 0.3601, val_loss: 0.3419, val_acc: 0.9072\n",
      "epoch 46, loss: 0.3576, val_loss: 0.3397, val_acc: 0.9068\n",
      "epoch 47, loss: 0.3553, val_loss: 0.3375, val_acc: 0.9074\n",
      "epoch 48, loss: 0.3531, val_loss: 0.3354, val_acc: 0.9075\n",
      "epoch 49, loss: 0.3509, val_loss: 0.3335, val_acc: 0.9077\n"
     ]
    }
   ],
   "source": [
    "def train(train_loader):\n",
    "    model.train()\n",
    "    running_loss = 0\n",
    "    \n",
    "    for batch_idx, (images, labels) in enumerate(train_loader):\n",
    "        images = Variable(images.view(-1, 28 * 28))\n",
    "        labels = Variable(labels)\n",
    "        \n",
    "        optimizer.zero_grad()\n",
    "        outputs = model(images)\n",
    "        \n",
    "        loss = criterion(outputs, labels)\n",
    "        running_loss += loss.data[0]\n",
    "        \n",
    "        loss.backward()\n",
    "        optimizer.step()\n",
    "        \n",
    "    train_loss = running_loss / len(train_loader)\n",
    "    \n",
    "    return train_loss\n",
    "\n",
    "def valid(test_loader):\n",
    "    model.eval()\n",
    "    running_loss = 0\n",
    "    correct = 0\n",
    "    total = 0\n",
    "    \n",
    "    for batch_idxx, (images, labels) in enumerate(test_loader):\n",
    "        images = Variable(images.view(-1, 28 * 28), volatile=True)\n",
    "        labels = Variable(labels, volatile=True)\n",
    "        \n",
    "        outputs = model(images)\n",
    "        \n",
    "        loss = criterion(outputs, labels)\n",
    "        running_loss += loss.data[0]\n",
    "        \n",
    "        _, predicted = torch.max(outputs.data, 1)\n",
    "        correct += (predicted == labels.data).sum()\n",
    "        total += labels.size(0)\n",
    "        \n",
    "    val_loss = running_loss / len(test_loader)\n",
    "    val_acc = correct / total\n",
    "    \n",
    "    return val_loss, val_acc\n",
    "\n",
    "loss_list = []\n",
    "val_loss_list = []\n",
    "val_acc_list = []\n",
    "\n",
    "for epoch in range(num_epochs):\n",
    "    loss = train(train_loader)\n",
    "    val_loss, val_acc = valid(test_loader)\n",
    "    \n",
    "    print('epoch %d, loss: %.4f, val_loss: %.4f, val_acc: %.4f' % (epoch, loss, val_loss, val_acc))\n",
    "    \n",
    "    loss_list.append(loss)\n",
    "    val_loss_list.append(val_loss)\n",
    "    val_acc_list.append(val_acc)"
   ]
  },
  {
   "cell_type": "code",
   "execution_count": 21,
   "metadata": {},
   "outputs": [
    {
     "data": {
      "image/png": "[encoded data removed]",
      "text/plain": [
       "<matplotlib.figure.Figure at 0x7f0d10363898>"
      ]
     },
     "metadata": {},
     "output_type": "display_data"
    },
    {
     "data": {
      "image/png": "[encoded data removed]",
      "text/plain": [
       "<matplotlib.figure.Figure at 0x7f0d0fa517b8>"
      ]
     },
     "metadata": {},
     "output_type": "display_data"
    }
   ],
   "source": [
    "import matplotlib.pyplot as plt\n",
    "%matplotlib inline\n",
    "\n",
    "# plot learning curve\n",
    "plt.figure()\n",
    "plt.plot(range(num_epochs), loss_list, 'r-', label='train_loss')\n",
    "plt.plot(range(num_epochs), val_loss_list, 'b-', label='val_loss')\n",
    "plt.legend()\n",
    "plt.xlabel('epoch')\n",
    "plt.ylabel('loss')\n",
    "plt.grid()\n",
    "\n",
    "plt.figure()\n",
    "plt.plot(range(num_epochs), val_acc_list, 'g-', label='val_acc')\n",
    "plt.legend()\n",
    "plt.xlabel('epoch')\n",
    "plt.ylabel('acc')\n",
    "plt.grid()"
   ]
  },
  {
   "cell_type": "code",
   "execution_count": null,
   "metadata": {},
   "outputs": [],
   "source": []
  }
 ],
 "metadata": {
  "kernelspec": {
   "display_name": "Python 3",
   "language": "python",
   "name": "python3"
  },
  "language_info": {
   "codemirror_mode": {
    "name": "ipython",
    "version": 3
   },
   "file_extension": ".py",
   "mimetype": "text/x-python",
   "name": "python",
   "nbconvert_exporter": "python",
   "pygments_lexer": "ipython3",
   "version": "3.6.3"
  }
 },
 "nbformat": 4,
 "nbformat_minor": 2
}
