{
 "cells": [
  {
   "cell_type": "code",
   "execution_count": 12,
   "metadata": {},
   "outputs": [],
   "source": [
    "import torch\n",
    "import torch.nn as nn\n",
    "import numpy as np\n",
    "import matplotlib.pyplot as plt\n",
    "from torch.autograd import Variable\n",
    "%matplotlib inline"
   ]
  },
  {
   "cell_type": "code",
   "execution_count": 2,
   "metadata": {},
   "outputs": [
    {
     "name": "stdout",
     "output_type": "stream",
     "text": [
      "Variable containing:\n",
      " 4\n",
      "[torch.FloatTensor of size 1]\n",
      "\n"
     ]
    }
   ],
   "source": [
    "x = Variable(torch.Tensor([2]), requires_grad=True)\n",
    "y = x ** 2\n",
    "y.backward()\n",
    "print(x.grad)"
   ]
  },
  {
   "cell_type": "code",
   "execution_count": 6,
   "metadata": {},
   "outputs": [
    {
     "name": "stdout",
     "output_type": "stream",
     "text": [
      "Variable containing:\n",
      " 7.3891\n",
      "[torch.FloatTensor of size 1]\n",
      "\n"
     ]
    }
   ],
   "source": [
    "x = Variable(torch.Tensor([2]), requires_grad=True)\n",
    "y = torch.exp(x)\n",
    "y.backward()\n",
    "print(x.grad)"
   ]
  },
  {
   "cell_type": "code",
   "execution_count": 7,
   "metadata": {},
   "outputs": [
    {
     "name": "stdout",
     "output_type": "stream",
     "text": [
      "Variable containing:\n",
      " 10\n",
      "[torch.FloatTensor of size 1]\n",
      "\n",
      "Variable containing:\n",
      " 20\n",
      "[torch.FloatTensor of size 1]\n",
      "\n"
     ]
    }
   ],
   "source": [
    "x = Variable(torch.Tensor([1]), requires_grad=True)\n",
    "y = Variable(torch.Tensor([2]), requires_grad=True)\n",
    "z = (x + 2 * y) ** 2\n",
    "z.backward()\n",
    "print(x.grad)  # dz/dx\n",
    "print(y.grad)  # dz/dy"
   ]
  },
  {
   "cell_type": "code",
   "execution_count": 8,
   "metadata": {},
   "outputs": [
    {
     "name": "stdout",
     "output_type": "stream",
     "text": [
      "w: Parameter containing:\n",
      "-0.5292 -0.0167 -0.2479\n",
      " 0.2931 -0.4432 -0.1612\n",
      "[torch.FloatTensor of size 2x3]\n",
      "\n",
      "b: Parameter containing:\n",
      " 0.4264\n",
      "-0.3408\n",
      "[torch.FloatTensor of size 2]\n",
      "\n",
      "loss: Variable containing:\n",
      " 0.6476\n",
      "[torch.FloatTensor of size 1]\n",
      "\n",
      "dL/dw: Variable containing:\n",
      "-0.1689  0.4533 -0.9575\n",
      "-0.1298  0.3287 -0.2439\n",
      "[torch.FloatTensor of size 2x3]\n",
      "\n",
      "dL/db: Variable containing:\n",
      "-0.2798\n",
      "-0.1811\n",
      "[torch.FloatTensor of size 2]\n",
      "\n",
      "*** by hand\n",
      "Variable containing:\n",
      "-0.5275 -0.0212 -0.2383\n",
      " 0.2944 -0.4465 -0.1587\n",
      "[torch.FloatTensor of size 2x3]\n",
      "\n",
      "Variable containing:\n",
      " 0.4292\n",
      "-0.3390\n",
      "[torch.FloatTensor of size 2]\n",
      "\n",
      "*** by optimizer.step()\n",
      "Parameter containing:\n",
      "-0.5275 -0.0212 -0.2383\n",
      " 0.2944 -0.4465 -0.1587\n",
      "[torch.FloatTensor of size 2x3]\n",
      "\n",
      "Parameter containing:\n",
      " 0.4292\n",
      "-0.3390\n",
      "[torch.FloatTensor of size 2]\n",
      "\n"
     ]
    }
   ],
   "source": [
    "# バッチサンプル数=5、入力特徴量の次元数=3\n",
    "x = Variable(torch.randn(5, 3))\n",
    "# バッチサンプル数=5、出力特徴量の次元数=2\n",
    "y = Variable(torch.randn(5, 2))\n",
    "\n",
    "# Linear層を作成\n",
    "# 3ユニット => 2ユニット\n",
    "linear = nn.Linear(3, 2)\n",
    "\n",
    "# Linear層のパラメータ\n",
    "print('w:', linear.weight)\n",
    "print('b:', linear.bias)\n",
    "\n",
    "# lossとoptimizer\n",
    "criterion = nn.MSELoss()\n",
    "optimizer = torch.optim.SGD(linear.parameters(), lr=0.01)\n",
    "\n",
    "# forward\n",
    "pred = linear(x)\n",
    "\n",
    "# loss = L\n",
    "loss = criterion(pred, y)\n",
    "print('loss:', loss)\n",
    "\n",
    "# backpropagation\n",
    "loss.backward()\n",
    "\n",
    "# 勾配を表示\n",
    "print('dL/dw:', linear.weight.grad)\n",
    "print('dL/db:', linear.bias.grad)\n",
    "\n",
    "# 勾配を用いてパラメータを更新\n",
    "print('*** by hand')\n",
    "print(linear.weight.sub(0.01 * linear.weight.grad))\n",
    "print(linear.bias.sub(0.01 * linear.bias.grad))\n",
    "\n",
    "# 勾配降下法\n",
    "optimizer.step()\n",
    "\n",
    "# 1ステップ更新後のパラメータを表示\n",
    "# 上の式と結果が一致することがわかる\n",
    "print('*** by optimizer.step()')\n",
    "print(linear.weight)\n",
    "print(linear.bias)"
   ]
  },
  {
   "cell_type": "code",
   "execution_count": 10,
   "metadata": {},
   "outputs": [],
   "source": [
    "\n",
    "# hyper parameters\n",
    "input_size = 1\n",
    "output_size = 1\n",
    "num_epochs = 60\n",
    "learning_rate = 0.001"
   ]
  },
  {
   "cell_type": "code",
   "execution_count": 11,
   "metadata": {},
   "outputs": [],
   "source": [
    "# toy dataset\n",
    "# 15 samples, 1 features\n",
    "x_train = np.array([3.3, 4.4, 5.5, 6.71, 6.93, 4.168, 9.779, 6.182, 7.59,\n",
    "                    2.167, 7.042, 10.791, 5.313, 7.997, 3.1],\n",
    "                   dtype=np.float32)\n",
    "\n",
    "y_train = np.array([1.7, 2.76, 2.09, 3.19, 1.694, 1.573, 3.366, 2.596, 2.53,\n",
    "                    1.221, 2.827, 3.465, 1.65, 2.904, 1.3],\n",
    "                   dtype=np.float32)\n",
    "\n",
    "x_train = x_train.reshape(15, 1)\n",
    "y_train = y_train.reshape(15, 1)"
   ]
  },
  {
   "cell_type": "code",
   "execution_count": 25,
   "metadata": {},
   "outputs": [
    {
     "data": {
      "image/png": "[encoded data removed]",
      "text/plain": [
       "<matplotlib.figure.Figure at 0x7eff16788550>"
      ]
     },
     "metadata": {},
     "output_type": "display_data"
    }
   ],
   "source": [
    "plt.scatter(x_train[:, 0], y_train[:, 0])\n",
    "plt.show()"
   ]
  },
  {
   "cell_type": "code",
   "execution_count": 26,
   "metadata": {},
   "outputs": [],
   "source": [
    "class LinearRegression(nn.Module):\n",
    "    def __init__(self, input_size, output_size):\n",
    "        super(LinearRegression, self).__init__()\n",
    "        self.linear = nn.Linear(input_size, output_size)\n",
    "        \n",
    "    def forward(self, x):\n",
    "        out = self.linear(x)\n",
    "        return out\n",
    "    \n",
    "model = LinearRegression(input_size, output_size)"
   ]
  },
  {
   "cell_type": "code",
   "execution_count": 27,
   "metadata": {},
   "outputs": [],
   "source": [
    "criterion = nn.MSELoss()\n",
    "optimizer = torch.optim.SGD(model.parameters(), lr=learning_rate)"
   ]
  },
  {
   "cell_type": "code",
   "execution_count": 29,
   "metadata": {},
   "outputs": [
    {
     "name": "stdout",
     "output_type": "stream",
     "text": [
      "Epoch [10/60], Loss: 1.1475\n",
      "Epoch [20/60], Loss: 0.4909\n",
      "Epoch [30/60], Loss: 0.3823\n",
      "Epoch [40/60], Loss: 0.3637\n",
      "Epoch [50/60], Loss: 0.3598\n",
      "Epoch [60/60], Loss: 0.3584\n"
     ]
    }
   ],
   "source": [
    "for epoch in range(num_epochs):\n",
    "    inputs = Variable(torch.from_numpy(x_train))\n",
    "    targets = Variable(torch.from_numpy(y_train))\n",
    "    \n",
    "    optimizer.zero_grad()\n",
    "    outputs = model(inputs)\n",
    "    loss = criterion(outputs, targets)\n",
    "    loss.backward()\n",
    "    optimizer.step()\n",
    "    \n",
    "    if (epoch + 1) % 10 == 0:\n",
    "        print('Epoch [%d/%d], Loss: %.4f' % (epoch + 1, num_epochs, loss.data[0]))\n",
    "        \n",
    "torch.save(model.state_dict(), 'model.pkl')"
   ]
  },
  {
   "cell_type": "code",
   "execution_count": 30,
   "metadata": {},
   "outputs": [],
   "source": [
    "predict = model(Variable(torch.from_numpy(x_train))).data.numpy()"
   ]
  },
  {
   "cell_type": "code",
   "execution_count": 32,
   "metadata": {},
   "outputs": [
    {
     "data": {
      "image/png": "[encoded data removed]",
      "text/plain": [
       "<matplotlib.figure.Figure at 0x7eff15ff1748>"
      ]
     },
     "metadata": {},
     "output_type": "display_data"
    }
   ],
   "source": [
    "plt.plot(x_train, y_train, 'ro', label='Original data')\n",
    "plt.plot(x_train, predict, label='Fitted line')\n",
    "plt.legend()\n",
    "plt.show()"
   ]
  },
  {
   "cell_type": "code",
   "execution_count": null,
   "metadata": {},
   "outputs": [],
   "source": []
  }
 ],
 "metadata": {
  "kernelspec": {
   "display_name": "Python 3",
   "language": "python",
   "name": "python3"
  },
  "language_info": {
   "codemirror_mode": {
    "name": "ipython",
    "version": 3
   },
   "file_extension": ".py",
   "mimetype": "text/x-python",
   "name": "python",
   "nbconvert_exporter": "python",
   "pygments_lexer": "ipython3",
   "version": "3.6.3"
  }
 },
 "nbformat": 4,
 "nbformat_minor": 2
}
