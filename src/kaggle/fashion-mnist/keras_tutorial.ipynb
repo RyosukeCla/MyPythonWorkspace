{
 "cells": [
  {
   "cell_type": "code",
   "execution_count": 1,
   "metadata": {},
   "outputs": [],
   "source": [
    "import numpy as np\n",
    "import matplotlib.pyplot as plt\n",
    "import seaborn\n",
    "%matplotlib inline\n",
    "np.random.seed(123)"
   ]
  },
  {
   "cell_type": "code",
   "execution_count": 5,
   "metadata": {},
   "outputs": [],
   "source": [
    "from keras.models import Sequential\n",
    "import keras.layers as layers\n",
    "from keras.utils import np_utils\n",
    "from keras.datasets import mnist"
   ]
  },
  {
   "cell_type": "code",
   "execution_count": 6,
   "metadata": {},
   "outputs": [
    {
     "name": "stdout",
     "output_type": "stream",
     "text": [
      "Downloading data from https://s3.amazonaws.com/img-datasets/mnist.npz\n",
      "11493376/11490434 [==============================] - 5s 0us/step\n"
     ]
    }
   ],
   "source": [
    "(X_train, y_train), (X_test, y_test) = mnist.load_data()"
   ]
  },
  {
   "cell_type": "code",
   "execution_count": 12,
   "metadata": {},
   "outputs": [
    {
     "data": {
      "text/plain": [
       "<matplotlib.image.AxesImage at 0x7fc48b091898>"
      ]
     },
     "execution_count": 12,
     "metadata": {},
     "output_type": "execute_result"
    },
    {
     "data": {
      "image/png": "[encoded data removed]",
      "text/plain": [
       "<matplotlib.figure.Figure at 0x7fc48f2e11d0>"
      ]
     },
     "metadata": {},
     "output_type": "display_data"
    }
   ],
   "source": [
    "# show images\n",
    "plt.imshow(X_train[0])"
   ]
  },
  {
   "cell_type": "code",
   "execution_count": 15,
   "metadata": {},
   "outputs": [
    {
     "name": "stdout",
     "output_type": "stream",
     "text": [
      "X: (60000, 28, 28), Y: (60000,)\n"
     ]
    }
   ],
   "source": [
    "print('X: {}, Y: {}'.format(X_train.shape, y_train.shape))"
   ]
  },
  {
   "cell_type": "code",
   "execution_count": 22,
   "metadata": {},
   "outputs": [],
   "source": [
    "X_train = X_train.reshape(-1, 28, 28, 1)\n",
    "X_test = X_test.reshape(-1, 28, 28, 1)"
   ]
  },
  {
   "cell_type": "code",
   "execution_count": 26,
   "metadata": {},
   "outputs": [],
   "source": [
    "X_train = X_train.astype('float32')\n",
    "X_test = X_test.astype('float32')"
   ]
  },
  {
   "cell_type": "code",
   "execution_count": 27,
   "metadata": {},
   "outputs": [],
   "source": [
    "X_train /= 255\n",
    "X_test /= 255"
   ]
  },
  {
   "cell_type": "code",
   "execution_count": 33,
   "metadata": {},
   "outputs": [],
   "source": [
    "Y_train = np_utils.to_categorical(y_train, 10)\n",
    "Y_test = np_utils.to_categorical(y_test, 10)"
   ]
  },
  {
   "cell_type": "code",
   "execution_count": 70,
   "metadata": {},
   "outputs": [
    {
     "name": "stdout",
     "output_type": "stream",
     "text": [
      "(None, 10)\n"
     ]
    }
   ],
   "source": [
    "model = Sequential()\n",
    "model.add(layers.Conv2D(32, (3, 3), activation='relu', input_shape=(28, 28, 1))) # -> (None, 26, 26, 32)\n",
    "model.add(layers.MaxPool2D(pool_size=(2, 2))) # -> (None, 13, 13, 32)\n",
    "model.add(layers.Dropout(0.25))\n",
    "model.add(layers.Flatten())\n",
    "model.add(layers.Dense(128, activation='relu'))\n",
    "model.add(layers.Dropout(0.5))\n",
    "model.add(layers.Dense(10, activation='softmax'))\n",
    "# model.add(layers.Conv2D(32, (3, 3), activation='relu')) # -> (None, 11, 11, 32)\n",
    "# model.add(layers.MaxPool2D(pool_size=(2, 2))) # -> (None, 5, 5, 32)\n",
    "\n",
    "print(model.output_shape)"
   ]
  },
  {
   "cell_type": "code",
   "execution_count": 71,
   "metadata": {},
   "outputs": [],
   "source": [
    "model.compile(loss='categorical_crossentropy', optimizer='adam', metrics=['accuracy'])"
   ]
  },
  {
   "cell_type": "code",
   "execution_count": 72,
   "metadata": {},
   "outputs": [
    {
     "name": "stdout",
     "output_type": "stream",
     "text": [
      "Epoch 1/5\n",
      "60000/60000 [==============================] - 34s 563us/step - loss: 0.2816 - acc: 0.9140\n",
      "Epoch 2/5\n",
      "60000/60000 [==============================] - 36s 592us/step - loss: 0.1237 - acc: 0.9638\n",
      "Epoch 3/5\n",
      "60000/60000 [==============================] - 37s 613us/step - loss: 0.0967 - acc: 0.9707\n",
      "Epoch 4/5\n",
      "60000/60000 [==============================] - 36s 594us/step - loss: 0.0821 - acc: 0.9750\n",
      "Epoch 5/5\n",
      "60000/60000 [==============================] - 41s 687us/step - loss: 0.0710 - acc: 0.9784\n"
     ]
    },
    {
     "data": {
      "text/plain": [
       "<keras.callbacks.History at 0x7fc472fd5470>"
      ]
     },
     "execution_count": 72,
     "metadata": {},
     "output_type": "execute_result"
    }
   ],
   "source": [
    "model.fit(X_train, Y_train, batch_size=32, epochs=5, verbose=1)"
   ]
  },
  {
   "cell_type": "code",
   "execution_count": 77,
   "metadata": {},
   "outputs": [
    {
     "name": "stdout",
     "output_type": "stream",
     "text": [
      "10000/10000 [==============================] - 1s 135us/step\n"
     ]
    },
    {
     "data": {
      "text/plain": [
       "[0.039689301973162221, 0.98629999999999995]"
      ]
     },
     "execution_count": 77,
     "metadata": {},
     "output_type": "execute_result"
    }
   ],
   "source": [
    "model.evaluate(X_test, Y_test, verbose=True)"
   ]
  },
  {
   "cell_type": "markdown",
   "metadata": {},
   "source": [
    "- model 1\n",
    "  - [0.039689301973162221, 0.98629999999999995]\n",
    "- model 2\n",
    "  - Conv2D padding='valid' -> padding='same'\n",
    "  - MaxPool (2, 2) -> pool_size=(4, 4)\n",
    "  - [0.041303950931748844, 0.98609999999999998]\n",
    "- model 3\n",
    "  - Dense 128 -> 80\n",
    "  - [0.046797603106207682, 0.9859]\n",
    "- model 4\n",
    "  - Dropout2 0.5 -> 0.25\n",
    "  - [0.039060527089098469, 0.98819999999999997]\n",
    "- model 5\n",
    "  - Dropout2 0.25 -> none\n",
    "  - [0.039307083108369258, 0.98719999999999997]\n",
    "- model 6\n",
    "  - Dropout1 0.25 -> none\n",
    "  - [0.043636748189438364, 0.98680000000000001]\n",
    "- model 7\n",
    "  - Conv2D 32 -> 16\n",
    "  - [0.054352130303904414, 0.98260000000000003]"
   ]
  },
  {
   "cell_type": "code",
   "execution_count": 79,
   "metadata": {},
   "outputs": [
    {
     "data": {
      "text/plain": [
       "'2.1.2'"
      ]
     },
     "execution_count": 79,
     "metadata": {},
     "output_type": "execute_result"
    }
   ],
   "source": []
  },
  {
   "cell_type": "code",
   "execution_count": 100,
   "metadata": {},
   "outputs": [
    {
     "name": "stdout",
     "output_type": "stream",
     "text": [
      "(None, 10)\n"
     ]
    }
   ],
   "source": [
    "model2 = Sequential()\n",
    "model2.add(layers.Conv2D(16, (3, 3), activation='relu', input_shape=(28, 28, 1), padding='same')) # -> (None, 28, 28, 32)\n",
    "model2.add(layers.MaxPool2D(pool_size=(4, 4))) # -> (None, 7, 7, 32)\n",
    "model2.add(layers.Flatten())\n",
    "model2.add(layers.Dense(80, activation='relu'))\n",
    "model2.add(layers.Dense(10, activation='softmax'))\n",
    "\n",
    "print(model2.output_shape)"
   ]
  },
  {
   "cell_type": "code",
   "execution_count": 101,
   "metadata": {},
   "outputs": [],
   "source": [
    "model2.compile(loss='categorical_crossentropy', optimizer='adam', metrics=['accuracy'])"
   ]
  },
  {
   "cell_type": "code",
   "execution_count": 102,
   "metadata": {},
   "outputs": [
    {
     "name": "stdout",
     "output_type": "stream",
     "text": [
      "Epoch 1/5\n",
      "60000/60000 [==============================] - 15s 244us/step - loss: 0.2399 - acc: 0.9306\n",
      "Epoch 2/5\n",
      "60000/60000 [==============================] - 15s 246us/step - loss: 0.0825 - acc: 0.9753\n",
      "Epoch 3/5\n",
      "60000/60000 [==============================] - 14s 240us/step - loss: 0.0625 - acc: 0.9811\n",
      "Epoch 4/5\n",
      "60000/60000 [==============================] - 14s 238us/step - loss: 0.0498 - acc: 0.9849\n",
      "Epoch 5/5\n",
      "60000/60000 [==============================] - 14s 236us/step - loss: 0.0425 - acc: 0.9869\n"
     ]
    },
    {
     "data": {
      "text/plain": [
       "<keras.callbacks.History at 0x7fc470146cc0>"
      ]
     },
     "execution_count": 102,
     "metadata": {},
     "output_type": "execute_result"
    }
   ],
   "source": [
    "model2.fit(X_train, Y_train, batch_size=32, epochs=5, verbose=1)"
   ]
  },
  {
   "cell_type": "code",
   "execution_count": 103,
   "metadata": {},
   "outputs": [
    {
     "name": "stdout",
     "output_type": "stream",
     "text": [
      "10000/10000 [==============================] - 1s 119us/step\n"
     ]
    },
    {
     "data": {
      "text/plain": [
       "[0.054352130303904414, 0.98260000000000003]"
      ]
     },
     "execution_count": 103,
     "metadata": {},
     "output_type": "execute_result"
    }
   ],
   "source": [
    "model2.evaluate(X_test, Y_test, verbose=True)"
   ]
  },
  {
   "cell_type": "code",
   "execution_count": null,
   "metadata": {},
   "outputs": [],
   "source": []
  }
 ],
 "metadata": {
  "kernelspec": {
   "display_name": "Python 3",
   "language": "python",
   "name": "python3"
  },
  "language_info": {
   "codemirror_mode": {
    "name": "ipython",
    "version": 3
   },
   "file_extension": ".py",
   "mimetype": "text/x-python",
   "name": "python",
   "nbconvert_exporter": "python",
   "pygments_lexer": "ipython3",
   "version": "3.6.3"
  }
 },
 "nbformat": 4,
 "nbformat_minor": 2
}
